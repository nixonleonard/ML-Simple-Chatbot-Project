{
  "nbformat": 4,
  "nbformat_minor": 0,
  "metadata": {
    "colab": {
      "provenance": [],
      "collapsed_sections": [],
      "authorship_tag": "ABX9TyNpHRJ59JguPQMPbG9BP8g1",
      "include_colab_link": true
    },
    "kernelspec": {
      "name": "python3",
      "display_name": "Python 3"
    },
    "language_info": {
      "name": "python"
    }
  },
  "cells": [
    {
      "cell_type": "markdown",
      "metadata": {
        "id": "view-in-github",
        "colab_type": "text"
      },
      "source": [
        "<a href=\"https://colab.research.google.com/github/nixonleonard/ML-Simple-Chatbot-Project/blob/main/main_fin.ipynb\" target=\"_parent\"><img src=\"https://colab.research.google.com/assets/colab-badge.svg\" alt=\"Open In Colab\"/></a>"
      ]
    },
    {
      "cell_type": "code",
      "execution_count": 1,
      "metadata": {
        "colab": {
          "base_uri": "https://localhost:8080/"
        },
        "id": "9ofbcsm3LPO3",
        "outputId": "2f59cb98-5fa8-4bb1-8a7f-b1b951f5f229"
      },
      "outputs": [
        {
          "output_type": "stream",
          "name": "stdout",
          "text": [
            "Looking in indexes: https://pypi.org/simple, https://us-python.pkg.dev/colab-wheels/public/simple/\n",
            "Requirement already satisfied: tflearn in /usr/local/lib/python3.7/dist-packages (0.5.0)\n",
            "Requirement already satisfied: six in /usr/local/lib/python3.7/dist-packages (from tflearn) (1.15.0)\n",
            "Requirement already satisfied: numpy in /usr/local/lib/python3.7/dist-packages (from tflearn) (1.21.6)\n",
            "Requirement already satisfied: Pillow in /usr/local/lib/python3.7/dist-packages (from tflearn) (7.1.2)\n"
          ]
        }
      ],
      "source": [
        "!pip install tflearn"
      ]
    },
    {
      "cell_type": "code",
      "source": [
        "import json, numpy as np, nltk\n",
        "import random\n",
        "import tensorflow as tf, tflearn\n",
        "from nltk.stem.lancaster import *\n",
        "stemmer = LancasterStemmer()\n",
        "\n",
        "nltk.download('punkt')"
      ],
      "metadata": {
        "colab": {
          "base_uri": "https://localhost:8080/"
        },
        "id": "Reen45PjLT_P",
        "outputId": "e2bc5d43-8d61-4110-a5c6-bb6eab1534dd"
      },
      "execution_count": 2,
      "outputs": [
        {
          "output_type": "stream",
          "name": "stderr",
          "text": [
            "WARNING:tensorflow:From /usr/local/lib/python3.7/dist-packages/tensorflow/python/compat/v2_compat.py:107: disable_resource_variables (from tensorflow.python.ops.variable_scope) is deprecated and will be removed in a future version.\n",
            "Instructions for updating:\n",
            "non-resource variables are not supported in the long term\n",
            "[nltk_data] Downloading package punkt to /root/nltk_data...\n",
            "[nltk_data]   Package punkt is already up-to-date!\n"
          ]
        },
        {
          "output_type": "execute_result",
          "data": {
            "text/plain": [
              "True"
            ]
          },
          "metadata": {},
          "execution_count": 2
        }
      ]
    },
    {
      "cell_type": "code",
      "source": [
        "from google.colab import files\n",
        "upload = files.upload()"
      ],
      "metadata": {
        "colab": {
          "base_uri": "https://localhost:8080/",
          "height": 74
        },
        "id": "2j96uXvPLVUB",
        "outputId": "bb21b7d8-55cb-451b-b5a5-942484354a06"
      },
      "execution_count": 3,
      "outputs": [
        {
          "output_type": "display_data",
          "data": {
            "text/plain": [
              "<IPython.core.display.HTML object>"
            ],
            "text/html": [
              "\n",
              "     <input type=\"file\" id=\"files-24f7cb6b-bdec-4400-abb9-f4340cf312b5\" name=\"files[]\" multiple disabled\n",
              "        style=\"border:none\" />\n",
              "     <output id=\"result-24f7cb6b-bdec-4400-abb9-f4340cf312b5\">\n",
              "      Upload widget is only available when the cell has been executed in the\n",
              "      current browser session. Please rerun this cell to enable.\n",
              "      </output>\n",
              "      <script>// Copyright 2017 Google LLC\n",
              "//\n",
              "// Licensed under the Apache License, Version 2.0 (the \"License\");\n",
              "// you may not use this file except in compliance with the License.\n",
              "// You may obtain a copy of the License at\n",
              "//\n",
              "//      http://www.apache.org/licenses/LICENSE-2.0\n",
              "//\n",
              "// Unless required by applicable law or agreed to in writing, software\n",
              "// distributed under the License is distributed on an \"AS IS\" BASIS,\n",
              "// WITHOUT WARRANTIES OR CONDITIONS OF ANY KIND, either express or implied.\n",
              "// See the License for the specific language governing permissions and\n",
              "// limitations under the License.\n",
              "\n",
              "/**\n",
              " * @fileoverview Helpers for google.colab Python module.\n",
              " */\n",
              "(function(scope) {\n",
              "function span(text, styleAttributes = {}) {\n",
              "  const element = document.createElement('span');\n",
              "  element.textContent = text;\n",
              "  for (const key of Object.keys(styleAttributes)) {\n",
              "    element.style[key] = styleAttributes[key];\n",
              "  }\n",
              "  return element;\n",
              "}\n",
              "\n",
              "// Max number of bytes which will be uploaded at a time.\n",
              "const MAX_PAYLOAD_SIZE = 100 * 1024;\n",
              "\n",
              "function _uploadFiles(inputId, outputId) {\n",
              "  const steps = uploadFilesStep(inputId, outputId);\n",
              "  const outputElement = document.getElementById(outputId);\n",
              "  // Cache steps on the outputElement to make it available for the next call\n",
              "  // to uploadFilesContinue from Python.\n",
              "  outputElement.steps = steps;\n",
              "\n",
              "  return _uploadFilesContinue(outputId);\n",
              "}\n",
              "\n",
              "// This is roughly an async generator (not supported in the browser yet),\n",
              "// where there are multiple asynchronous steps and the Python side is going\n",
              "// to poll for completion of each step.\n",
              "// This uses a Promise to block the python side on completion of each step,\n",
              "// then passes the result of the previous step as the input to the next step.\n",
              "function _uploadFilesContinue(outputId) {\n",
              "  const outputElement = document.getElementById(outputId);\n",
              "  const steps = outputElement.steps;\n",
              "\n",
              "  const next = steps.next(outputElement.lastPromiseValue);\n",
              "  return Promise.resolve(next.value.promise).then((value) => {\n",
              "    // Cache the last promise value to make it available to the next\n",
              "    // step of the generator.\n",
              "    outputElement.lastPromiseValue = value;\n",
              "    return next.value.response;\n",
              "  });\n",
              "}\n",
              "\n",
              "/**\n",
              " * Generator function which is called between each async step of the upload\n",
              " * process.\n",
              " * @param {string} inputId Element ID of the input file picker element.\n",
              " * @param {string} outputId Element ID of the output display.\n",
              " * @return {!Iterable<!Object>} Iterable of next steps.\n",
              " */\n",
              "function* uploadFilesStep(inputId, outputId) {\n",
              "  const inputElement = document.getElementById(inputId);\n",
              "  inputElement.disabled = false;\n",
              "\n",
              "  const outputElement = document.getElementById(outputId);\n",
              "  outputElement.innerHTML = '';\n",
              "\n",
              "  const pickedPromise = new Promise((resolve) => {\n",
              "    inputElement.addEventListener('change', (e) => {\n",
              "      resolve(e.target.files);\n",
              "    });\n",
              "  });\n",
              "\n",
              "  const cancel = document.createElement('button');\n",
              "  inputElement.parentElement.appendChild(cancel);\n",
              "  cancel.textContent = 'Cancel upload';\n",
              "  const cancelPromise = new Promise((resolve) => {\n",
              "    cancel.onclick = () => {\n",
              "      resolve(null);\n",
              "    };\n",
              "  });\n",
              "\n",
              "  // Wait for the user to pick the files.\n",
              "  const files = yield {\n",
              "    promise: Promise.race([pickedPromise, cancelPromise]),\n",
              "    response: {\n",
              "      action: 'starting',\n",
              "    }\n",
              "  };\n",
              "\n",
              "  cancel.remove();\n",
              "\n",
              "  // Disable the input element since further picks are not allowed.\n",
              "  inputElement.disabled = true;\n",
              "\n",
              "  if (!files) {\n",
              "    return {\n",
              "      response: {\n",
              "        action: 'complete',\n",
              "      }\n",
              "    };\n",
              "  }\n",
              "\n",
              "  for (const file of files) {\n",
              "    const li = document.createElement('li');\n",
              "    li.append(span(file.name, {fontWeight: 'bold'}));\n",
              "    li.append(span(\n",
              "        `(${file.type || 'n/a'}) - ${file.size} bytes, ` +\n",
              "        `last modified: ${\n",
              "            file.lastModifiedDate ? file.lastModifiedDate.toLocaleDateString() :\n",
              "                                    'n/a'} - `));\n",
              "    const percent = span('0% done');\n",
              "    li.appendChild(percent);\n",
              "\n",
              "    outputElement.appendChild(li);\n",
              "\n",
              "    const fileDataPromise = new Promise((resolve) => {\n",
              "      const reader = new FileReader();\n",
              "      reader.onload = (e) => {\n",
              "        resolve(e.target.result);\n",
              "      };\n",
              "      reader.readAsArrayBuffer(file);\n",
              "    });\n",
              "    // Wait for the data to be ready.\n",
              "    let fileData = yield {\n",
              "      promise: fileDataPromise,\n",
              "      response: {\n",
              "        action: 'continue',\n",
              "      }\n",
              "    };\n",
              "\n",
              "    // Use a chunked sending to avoid message size limits. See b/62115660.\n",
              "    let position = 0;\n",
              "    do {\n",
              "      const length = Math.min(fileData.byteLength - position, MAX_PAYLOAD_SIZE);\n",
              "      const chunk = new Uint8Array(fileData, position, length);\n",
              "      position += length;\n",
              "\n",
              "      const base64 = btoa(String.fromCharCode.apply(null, chunk));\n",
              "      yield {\n",
              "        response: {\n",
              "          action: 'append',\n",
              "          file: file.name,\n",
              "          data: base64,\n",
              "        },\n",
              "      };\n",
              "\n",
              "      let percentDone = fileData.byteLength === 0 ?\n",
              "          100 :\n",
              "          Math.round((position / fileData.byteLength) * 100);\n",
              "      percent.textContent = `${percentDone}% done`;\n",
              "\n",
              "    } while (position < fileData.byteLength);\n",
              "  }\n",
              "\n",
              "  // All done.\n",
              "  yield {\n",
              "    response: {\n",
              "      action: 'complete',\n",
              "    }\n",
              "  };\n",
              "}\n",
              "\n",
              "scope.google = scope.google || {};\n",
              "scope.google.colab = scope.google.colab || {};\n",
              "scope.google.colab._files = {\n",
              "  _uploadFiles,\n",
              "  _uploadFilesContinue,\n",
              "};\n",
              "})(self);\n",
              "</script> "
            ]
          },
          "metadata": {}
        },
        {
          "output_type": "stream",
          "name": "stdout",
          "text": [
            "Saving dataset.json to dataset (2).json\n"
          ]
        }
      ]
    },
    {
      "cell_type": "markdown",
      "source": [
        "#Importing Datasets"
      ],
      "metadata": {
        "id": "Vr6yGsPfIunW"
      }
    },
    {
      "cell_type": "code",
      "source": [
        "file_name = \"dataset.json\"\n",
        "dataset = json.loads(upload[file_name].decode(\"utf-8\"))\n",
        "print(dataset)"
      ],
      "metadata": {
        "colab": {
          "base_uri": "https://localhost:8080/"
        },
        "id": "cGI0t5kELXNp",
        "outputId": "a584b5c6-7b3a-4fd9-ec84-308223cf0b8c"
      },
      "execution_count": 11,
      "outputs": [
        {
          "output_type": "stream",
          "name": "stdout",
          "text": [
            "{'dataset': [{'tag': 'greet', 'inputs': ['Hi', 'Is anyone there?', 'Hello', 'Morning', 'Afternoon', 'Evening', 'Good day', 'Whats up', 'Yoo', 'Hey', 'Nixobot'], 'responses': ['Hello!', 'Hi there, how can I help you?'], 'context_set': ''}, {'tag': 'status', 'inputs': ['How do you do?', 'How are you', 'How you feel'], 'responses': [\"I'm fine thank you for asking..\", \"I'm good, and you?\"], 'context_set': ''}, {'tag': 'status-Back', 'inputs': ['Im good', 'Im well', 'im not feeling well', 'not good'], 'responses': ['Is there anything that i can help you?'], 'context_set': ''}, {'tag': 'bye', 'inputs': ['See you later', 'Goodbye', 'I am Leaving', 'Have a Good day', 'Bye', 'Cya'], 'responses': ['Sad to see you go :(', 'Talk to you later', 'Goodbye!'], 'context_set': ''}, {'tag': 'age', 'inputs': ['how old', 'how old are you', 'what is your age', 'age?'], 'responses': ['I am 20 years old!', '... Im a bot you know ...'], 'context_set': ''}, {'tag': 'name', 'inputs': ['what is your name', 'what should I call you', 'whats your name?'], 'responses': ['You can call me Nixobot.', \"I'm Nixobot!\", 'You can call me Nixo or Nixobot'], 'context_set': ''}, {'tag': 'shop', 'inputs': ['Id like to buy something', 'whats on the menu', 'what do you reccommend?', 'Is there any reccommendation', 'could i get something to eat'], 'responses': ['Well you can see the menu and the recommendation on the description below', 'Cookies, Cakes, Chocolate, and others are on the menu!', 'We sell cakes for 3$ only!'], 'context_set': ''}, {'tag': 'discount', 'inputs': ['you have discount', 'is there any discount', 'discount'], 'responses': [\"Sorry, we don't have any discount for today :(\"], 'context_set': ''}, {'tag': 'hours', 'inputs': ['when are you guys open', 'what are your hours', 'hours of operation'], 'responses': ['We are open 7am-4pm Monday-Friday!'], 'context_set': ''}]}\n"
          ]
        }
      ]
    },
    {
      "cell_type": "markdown",
      "source": [
        "#Model"
      ],
      "metadata": {
        "id": "e_ajM2chKq3U"
      }
    },
    {
      "cell_type": "code",
      "source": [
        "words = []\n",
        "tags = []\n",
        "input_dc = []\n",
        "tag_dc = []\n",
        "\n",
        "# Spit each sentesnce into single word with nltk, so we can see list of different words, \n",
        "# and extend to insert all the list without using loop\n",
        "for data in dataset[\"dataset\"]:\n",
        "    for inp in data[\"inputs\"]:\n",
        "        wdtkn = nltk.word_tokenize(inp)\n",
        "        words.extend(wdtkn)\n",
        "        input_dc.append(wdtkn)\n",
        "        tag_dc.append(data[\"tag\"])\n",
        "    if data[\"tag\"] not in tags:\n",
        "        tags.append(data[\"tag\"])\n",
        "\n",
        "# Stem word and remove duplicate elements\n",
        "words = [stemmer.stem(w.lower()) for w in words if w != \"?\"]\n",
        "words = sorted(list(set(words)))\n",
        "tags = sorted(tags)\n",
        "\n",
        "train = []\n",
        "output = []\n",
        "\n",
        "temp_out = [0 for _ in range(len(tags))] \n",
        "\n",
        "# Bag of word to see the frequency of each word occur (One Hot Encoded)\n",
        "for x, dc in enumerate(input_dc):\n",
        "    bag_of_words = []\n",
        "    wrd = [stemmer.stem(w.lower()) for w in dc]\n",
        "    \n",
        "    for w in words:\n",
        "        if w in wrd:\n",
        "            bag_of_words.append(1)\n",
        "        else:\n",
        "            bag_of_words.append(0)\n",
        "    \n",
        "    output_row = temp_out[:]\n",
        "    output_row[tags.index(tag_dc[x])] = 1\n",
        "\n",
        "    train.append(bag_of_words)\n",
        "    output.append(output_row)\n",
        "\n",
        "train = np.array(train)\n",
        "output = np.array(output)"
      ],
      "metadata": {
        "id": "MuwJUHaaLZdn"
      },
      "execution_count": 12,
      "outputs": []
    },
    {
      "cell_type": "markdown",
      "source": [
        "##Deep Neural Network Model with Tflearn"
      ],
      "metadata": {
        "id": "ti8Vnb75OHOu"
      }
    },
    {
      "cell_type": "code",
      "source": [
        "nnm = tflearn.input_data(shape=[None, len(train[0])])   # Shape of input\n",
        "nnm = tflearn.fully_connected(nnm, 8) # first hidden layer with 8 neurons\n",
        "nnm = tflearn.fully_connected(nnm, 8) # second hidden layer with 8 neurons\n",
        "nnm = tflearn.fully_connected(nnm, len(output[0]), activation=\"softmax\") #activation function\n",
        "nnm = tflearn.regression(nnm)\n",
        "\n",
        "model = tflearn.DNN(nnm)"
      ],
      "metadata": {
        "id": "68PywiJmLdfi"
      },
      "execution_count": 13,
      "outputs": []
    },
    {
      "cell_type": "markdown",
      "source": [
        "##Model Training / Fitting"
      ],
      "metadata": {
        "id": "cNJLE2ZSOwm4"
      }
    },
    {
      "cell_type": "code",
      "source": [
        "model.fit(train, output, n_epoch=1000, batch_size=8, show_metric=True)"
      ],
      "metadata": {
        "colab": {
          "base_uri": "https://localhost:8080/"
        },
        "id": "H4xsegrqLhiv",
        "outputId": "a367d425-9d3e-42a8-fc91-4a8f3e416a6b"
      },
      "execution_count": 7,
      "outputs": [
        {
          "output_type": "stream",
          "name": "stdout",
          "text": [
            "Training Step: 5999  | total loss: \u001b[1m\u001b[32m0.05093\u001b[0m\u001b[0m | time: 0.016s\n",
            "| Adam | epoch: 1000 | loss: 0.05093 - acc: 1.0000 -- iter: 40/42\n",
            "Training Step: 6000  | total loss: \u001b[1m\u001b[32m0.04878\u001b[0m\u001b[0m | time: 0.020s\n",
            "| Adam | epoch: 1000 | loss: 0.04878 - acc: 1.0000 -- iter: 42/42\n",
            "--\n"
          ]
        }
      ]
    },
    {
      "cell_type": "markdown",
      "source": [
        "##Function to turn user input into bag of words"
      ],
      "metadata": {
        "id": "wK-uh0r4PDWR"
      }
    },
    {
      "cell_type": "code",
      "source": [
        "def bag_of_words(s, words):\n",
        "    bag = [0 for _ in range(len(words))]\n",
        "\n",
        "    s_words = nltk.word_tokenize(s)\n",
        "    s_words = [stemmer.stem(word.lower()) for word in s_words]\n",
        "\n",
        "    for se in s_words:\n",
        "        for i, w in enumerate(words):\n",
        "            if w == se:\n",
        "                bag[i] = 1\n",
        "            \n",
        "    return np.array(bag)"
      ],
      "metadata": {
        "id": "IQkExveXLjs6"
      },
      "execution_count": 8,
      "outputs": []
    },
    {
      "cell_type": "markdown",
      "source": [
        "##Function to start chatting with the bot and the responses"
      ],
      "metadata": {
        "id": "yvP_GU5HPKWR"
      }
    },
    {
      "cell_type": "code",
      "source": [
        "def chatting():\n",
        "    print(\"Start talking with the bot (type quit to stop)!\")\n",
        "    while True:\n",
        "        inp = input(\"You: \")\n",
        "        if inp.lower() == \"exit\":\n",
        "            print('Thankyou for asking, i\\'ll talk to you later :) !')\n",
        "            break\n",
        "\n",
        "        # Predict the response\n",
        "        response = model.predict([bag_of_words(inp, words)]) [0]\n",
        "        r_id = np.argmax(response)\n",
        "        tag = tags[r_id]\n",
        "\n",
        "        # Print the highest score, but if the score is more than 60%\n",
        "        if response[r_id] > 0.6:\n",
        "            for tg in dataset[\"dataset\"]:\n",
        "                if tg['tag'] == tag:\n",
        "                    responses = tg['responses']\n",
        "\n",
        "            print(random.choice(responses))\n",
        "        else:\n",
        "            print(\"Sorry i didn't get that, you can ask another question..\")"
      ],
      "metadata": {
        "id": "zTwWo_HKLkCU"
      },
      "execution_count": 9,
      "outputs": []
    },
    {
      "cell_type": "markdown",
      "source": [
        "#Let's Start Chatting"
      ],
      "metadata": {
        "id": "9r3DPFWPPvMs"
      }
    },
    {
      "cell_type": "code",
      "source": [
        "chatting()"
      ],
      "metadata": {
        "colab": {
          "base_uri": "https://localhost:8080/"
        },
        "id": "9MMeqzHgLlRw",
        "outputId": "2f655bae-936a-48a3-f2b5-9ace4138b799"
      },
      "execution_count": 10,
      "outputs": [
        {
          "output_type": "stream",
          "name": "stdout",
          "text": [
            "Start talking with the bot (type quit to stop)!\n",
            "You: Hey\n",
            "Hi there, how can I help you?\n",
            "You: How are you\n",
            "I'm fine thank you for asking..\n",
            "You: What should i call you\n",
            "I'm Nixobot!\n",
            "You: Can i ask how old are you\n",
            "I am 20 years old!\n",
            "You: so what menu do you recommend\n",
            "We sell cakes for 3$ only!\n",
            "You: and what is your operation time\n",
            "Sorry i didn't get that, you can ask another question..\n",
            "You: i mean hours operation time\n",
            "We are open 7am-4pm Monday-Friday!\n",
            "You: is there any discount?\n",
            "Sorry, we don't have any discount for today :(\n",
            "You: you have discount\n",
            "Sorry, we don't have any discount for today :(\n",
            "You: ok thankyou then\n",
            "Sorry i didn't get that, you can ask another question..\n",
            "You: exit\n",
            "Thankyou for asking, i'll talk to you later :) !\n"
          ]
        }
      ]
    }
  ]
}